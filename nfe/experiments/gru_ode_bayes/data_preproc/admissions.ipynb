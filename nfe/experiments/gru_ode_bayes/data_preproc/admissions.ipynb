{
 "cells": [
  {
   "cell_type": "markdown",
   "metadata": {},
   "source": [
    "# MIMIC 4 data - dataset construction admissions"
   ]
  },
  {
   "cell_type": "markdown",
   "metadata": {},
   "source": [
    "Code taken from GRU-ODE-Bayes preprocessing; simplified and adapted for MIMIC 4 1.0"
   ]
  },
  {
   "cell_type": "code",
   "execution_count": null,
   "metadata": {},
   "outputs": [],
   "source": [
    "import os\n",
    "import pandas as pd\n",
    "import matplotlib.pyplot as plt\n",
    "from datetime import datetime\n",
    "from datetime import timedelta\n",
    "import numpy as np"
   ]
  },
  {
   "cell_type": "code",
   "execution_count": null,
   "metadata": {},
   "outputs": [],
   "source": [
    "fn = '/path/core/admissions.csv.gz'\n",
    "adm = pd.read_csv(fn, compression='gzip')\n",
    "adm.head()"
   ]
  },
  {
   "cell_type": "code",
   "execution_count": null,
   "metadata": {},
   "outputs": [],
   "source": [
    "#keep only patients present in patients data\n",
    "patients_df=pd.read_csv('/path/core/patients.csv.gz')\n",
    "patients_df[[\"subject_id\",\"anchor_age\"]].head()\n",
    "adm_dob=pd.merge(patients_df[[\"subject_id\",\"anchor_age\"]],adm,on=\"subject_id\")\n",
    "\n",
    "df=adm.groupby(\"subject_id\")[\"hadm_id\"].nunique()\n",
    "subj_ids=list(df[df==1].index)\n",
    "adm_1=adm_dob.loc[adm_dob[\"subject_id\"].isin(subj_ids)]\n",
    "print(\"Number of patients remaining in the dataframe: \")\n",
    "print(len(adm_1.index))"
   ]
  },
  {
   "cell_type": "code",
   "execution_count": null,
   "metadata": {},
   "outputs": [],
   "source": [
    "# time of stay in ICU\n",
    "adm_1=adm_1.copy()\n",
    "adm_1['admittime']=pd.to_datetime(adm_1[\"admittime\"], format='%Y-%m-%d %H:%M:%S')\n",
    "adm_1['dischtime']=pd.to_datetime(adm_1[\"dischtime\"], format='%Y-%m-%d %H:%M:%S')\n",
    "\n",
    "adm_1[\"elapsed_time\"]=adm_1[\"dischtime\"]-adm_1[\"admittime\"]\n",
    "adm_1.head()\n",
    "adm_1[\"elapsed_days\"]=adm_1[\"elapsed_time\"].dt.days \n",
    "\n",
    "adm_2=adm_1.loc[(adm_1[\"elapsed_days\"]<30) & (adm_1[\"elapsed_days\"]>2)]\n",
    "print(\"Number of patients remaining in the dataframe: \")\n",
    "print(len(adm_2.index))"
   ]
  },
  {
   "cell_type": "code",
   "execution_count": null,
   "metadata": {},
   "outputs": [],
   "source": [
    "# only patients older than 15\n",
    "adm_2_15=adm_2.loc[adm_2[\"anchor_age\"]>15].copy()\n",
    "print(\"Number of patients remaining in the dataframe: \")\n",
    "print(len(adm_2_15.index))"
   ]
  },
  {
   "cell_type": "code",
   "execution_count": null,
   "metadata": {},
   "outputs": [],
   "source": [
    "fn = '/path/icu/chartevents.csv.gz'\n",
    "# this file is huge, we need to read in the data in chunks\n",
    "# chartevents = pd.read_csv(fn, compression='gzip')\n",
    "\n",
    "# workaround:\n",
    "ids = np.array([])\n",
    "for chunk in pd.read_csv(fn, chunksize=1000000):\n",
    "    ids = np.append(ids, chunk['hadm_id'].unique())\n",
    "    ids = np.unique(ids)"
   ]
  },
  {
   "cell_type": "code",
   "execution_count": null,
   "metadata": {},
   "outputs": [],
   "source": [
    "adm_2_15_chart=adm_2_15.loc[adm_2_15[\"hadm_id\"].isin(ids)].copy()\n",
    "print(\"Number of patients remaining in the dataframe: \")\n",
    "print(len(adm_2_15_chart.index))"
   ]
  },
  {
   "cell_type": "code",
   "execution_count": null,
   "metadata": {},
   "outputs": [],
   "source": [
    "adm_2_15_chart.to_csv(\"/path/processed/admissions_processed.csv\")"
   ]
  }
 ],
 "metadata": {
  "kernelspec": {
   "display_name": "Python 3",
   "language": "python",
   "name": "python3"
  },
  "language_info": {
   "codemirror_mode": {
    "name": "ipython",
    "version": 3
   },
   "file_extension": ".py",
   "mimetype": "text/x-python",
   "name": "python",
   "nbconvert_exporter": "python",
   "pygments_lexer": "ipython3",
   "version": "3.8.5"
  },
  "toc-autonumbering": false,
  "toc-showcode": false,
  "toc-showmarkdowntxt": false,
  "toc-showtags": false
 },
 "nbformat": 4,
 "nbformat_minor": 4
}
