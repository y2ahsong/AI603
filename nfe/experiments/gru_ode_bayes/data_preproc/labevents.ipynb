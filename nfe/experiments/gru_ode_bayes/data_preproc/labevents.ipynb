{
 "cells": [
  {
   "cell_type": "markdown",
   "metadata": {},
   "source": [
    "# MIMIC 4 data - dataset construction labevents"
   ]
  },
  {
   "cell_type": "markdown",
   "metadata": {},
   "source": [
    "Code taken from GRU-ODE-Bayes preprocessing; simplified and adapted for MIMIC 4 1.0"
   ]
  },
  {
   "cell_type": "code",
   "execution_count": null,
   "metadata": {},
   "outputs": [],
   "source": [
    "import os\n",
    "import pandas as pd\n",
    "import matplotlib.pyplot as plt\n",
    "from datetime import datetime\n",
    "from datetime import timedelta\n",
    "import numpy as np\n",
    "from sklearn.model_selection import train_test_split"
   ]
  },
  {
   "cell_type": "code",
   "execution_count": null,
   "metadata": {},
   "outputs": [],
   "source": [
    "pd.set_option('display.max_rows', 50)\n",
    "pd.set_option('display.max_columns', 300)"
   ]
  },
  {
   "cell_type": "code",
   "execution_count": null,
   "metadata": {},
   "outputs": [],
   "source": [
    "adm = pd.read_csv(\"/path/processed/admissions_processed.csv\")\n",
    "adm.head()"
   ]
  },
  {
   "cell_type": "code",
   "execution_count": null,
   "metadata": {},
   "outputs": [],
   "source": [
    "df = pd.DataFrame()\n",
    "for chunk in pd.read_csv(\"/path/hosp/labevents.csv.gz\", chunksize=500000):\n",
    "    adm_ids=list(adm[\"hadm_id\"])\n",
    "    chunk=chunk.loc[chunk[\"hadm_id\"].isin(adm_ids)]\n",
    "    df = df.append(chunk[[\"subject_id\",\"hadm_id\",\"charttime\",\"valuenum\",\"itemid\"]])"
   ]
  },
  {
   "cell_type": "code",
   "execution_count": null,
   "metadata": {},
   "outputs": [],
   "source": [
    "# only choose previously selected admission ids.\n",
    "print(\"Number of patients remaining in the database: \")\n",
    "print(df[\"subject_id\"].nunique())"
   ]
  },
  {
   "cell_type": "code",
   "execution_count": null,
   "metadata": {},
   "outputs": [],
   "source": [
    "# get item ids\n",
    "item_id=pd.read_csv(\"/path/hosp/d_labitems.csv.gz\")\n",
    "item_id_1=item_id[[\"itemid\",\"label\"]]\n",
    "item_id_1.head()"
   ]
  },
  {
   "cell_type": "code",
   "execution_count": null,
   "metadata": {},
   "outputs": [],
   "source": [
    "# get names of administered items\n",
    "lab2=pd.merge(df,item_id_1,on=\"itemid\")\n",
    "lab2.head()\n",
    "print(\"Number of patients remaining in the database: \")\n",
    "print(lab2[\"subject_id\"].nunique())"
   ]
  },
  {
   "cell_type": "code",
   "execution_count": null,
   "metadata": {},
   "outputs": [],
   "source": [
    "# get only top 150 most used tests\n",
    "n_best=150\n",
    "pat_for_item=lab2.groupby(\"label\")[\"subject_id\"].nunique()\n",
    "frequent_labels=pat_for_item.sort_values(ascending=False)[:n_best]\n",
    "lab3=lab2.loc[lab2[\"label\"].isin(list(frequent_labels.index))].copy()\n",
    "\n",
    "print(\"Number of patients remaining in the database: \")\n",
    "print(lab3[\"subject_id\"].nunique())"
   ]
  },
  {
   "cell_type": "code",
   "execution_count": null,
   "metadata": {},
   "outputs": [],
   "source": [
    "# only select the subset that was used in the paper (only missing is INR(PT))\n",
    "subset=[\"Albumin\",\"Alanine Aminotransferase (ALT)\",\"Alkaline Phosphatase\",\"Anion Gap\",\"Asparate Aminotransferase (AST)\",\"Base Excess\",\"Basophils\",\"Bicarbonate\",\"Bilirubin, Total\",\"Calcium, Total\",\"Calculated Total CO2\",\"Chloride\",\"Creatinine\",\"Eosinophils\",\"Glucose\",\"Hematocrit\",\"Hemoglobin\",\n",
    "\"Lactate\",\"Lymphocytes\",\"MCH\",\"MCV\",\"Magnesium\",\"Monocytes\",\"Neutrophils\",\"PT\",\"PTT\",\"Phosphate\",\"Platelet Count\",\"Potassium\",\"RDW\",\"Red Blood Cells\",\"Sodium\",\"Specific Gravity\",\"Urea Nitrogen\",\"White Blood Cells\",\"pCO2\",\"pH\",\"pO2\"]\n",
    "\n",
    "lab3=lab3.loc[lab3[\"label\"].isin(subset)].copy()"
   ]
  },
  {
   "cell_type": "code",
   "execution_count": null,
   "metadata": {},
   "outputs": [],
   "source": [
    "lab3.to_csv(\"/path/processed/lab_processed.csv\")"
   ]
  }
 ],
 "metadata": {
  "kernelspec": {
   "display_name": "Python 3",
   "language": "python",
   "name": "python3"
  },
  "language_info": {
   "codemirror_mode": {
    "name": "ipython",
    "version": 3
   },
   "file_extension": ".py",
   "mimetype": "text/x-python",
   "name": "python",
   "nbconvert_exporter": "python",
   "pygments_lexer": "ipython3",
   "version": "3.8.5"
  }
 },
 "nbformat": 4,
 "nbformat_minor": 4
}
