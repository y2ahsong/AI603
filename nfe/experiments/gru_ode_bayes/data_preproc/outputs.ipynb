{
 "cells": [
  {
   "cell_type": "markdown",
   "metadata": {},
   "source": [
    "# MIMIC 4 data - dataset construction inputevents"
   ]
  },
  {
   "cell_type": "markdown",
   "metadata": {},
   "source": [
    "Code taken from GRU-ODE-Bayes preprocessing; simplified and adapted for MIMIC 4 1.0"
   ]
  },
  {
   "cell_type": "code",
   "execution_count": null,
   "metadata": {},
   "outputs": [],
   "source": [
    "import os\n",
    "import pandas as pd\n",
    "import matplotlib.pyplot as plt\n",
    "from datetime import datetime\n",
    "from datetime import timedelta\n",
    "import numpy as np"
   ]
  },
  {
   "cell_type": "code",
   "execution_count": null,
   "metadata": {},
   "outputs": [],
   "source": [
    "pd.set_option('display.max_rows', 50)\n",
    "pd.set_option('display.max_columns', 300)"
   ]
  },
  {
   "cell_type": "code",
   "execution_count": null,
   "metadata": {},
   "outputs": [],
   "source": [
    "adm = pd.read_csv(\"/path/processed/admissions_processed.csv\")"
   ]
  },
  {
   "cell_type": "code",
   "execution_count": null,
   "metadata": {},
   "outputs": [],
   "source": [
    "outputs = pd.read_csv('/path/icu/outputevents.csv.gz')\n",
    "outputs.tail()"
   ]
  },
  {
   "cell_type": "code",
   "execution_count": null,
   "metadata": {},
   "outputs": [],
   "source": [
    "# only choose previously selected admission ids\n",
    "adm_ids=list(adm[\"hadm_id\"])\n",
    "outputs=outputs.loc[outputs[\"hadm_id\"].isin(adm_ids)]\n",
    "\n",
    "print(\"Number of patients remaining in the database: \")\n",
    "print(outputs[\"subject_id\"].nunique())"
   ]
  },
  {
   "cell_type": "code",
   "execution_count": null,
   "metadata": {},
   "outputs": [],
   "source": [
    "# get item names\n",
    "item_id=pd.read_csv('/path/icu/d_items.csv.gz')\n",
    "item_id_1=item_id[[\"itemid\",\"label\"]]\n",
    "item_id_1.head()\n",
    "\n",
    "outputs_2=pd.merge(outputs,item_id_1,on=\"itemid\")\n",
    "outputs_2.head()\n",
    "print(\"Number of patients remaining in the database: \")\n",
    "print(outputs_2[\"subject_id\"].nunique())"
   ]
  },
  {
   "cell_type": "code",
   "execution_count": null,
   "metadata": {},
   "outputs": [],
   "source": [
    "# take only the n most used items\n",
    "n_best=15\n",
    "pat_for_item=outputs_2.groupby(\"label\")[\"subject_id\"].nunique()\n",
    "frequent_labels=pat_for_item.sort_values(ascending=False)[:n_best]\n",
    "outputs_3=outputs_2.loc[outputs_2[\"label\"].isin(list(frequent_labels.index))].copy()\n",
    "\n",
    "print(\"Number of patients remaining in the database: \")\n",
    "print(outputs_3[\"subject_id\"].nunique())\n",
    "print(\"Number of datapoints remaining in the database: \")\n",
    "print(len(outputs_3.index))\n",
    "\n",
    "print(frequent_labels)"
   ]
  },
  {
   "cell_type": "code",
   "execution_count": null,
   "metadata": {},
   "outputs": [],
   "source": [
    "outputs_label_list=['Foley', 'Void', 'OR Urine', 'Chest Tube', 'Oral Gastric', 'Pre-Admission', 'TF Residual', 'OR EBL', 'Emesis', 'Nasogastric', 'Stool', 'Jackson Pratt', 'TF Residual Output', 'Fecal Bag', 'Straight Cath']\n",
    "outputs_bis=outputs_2.loc[outputs_2[\"label\"].isin(outputs_label_list)].copy()\n",
    "\n",
    "print(\"Number of patients remaining in the database: \")\n",
    "print(outputs_bis[\"subject_id\"].nunique())\n",
    "print(\"Number of datapoints remaining in the database: \")\n",
    "print(len(outputs_bis.index))\n",
    "\n",
    "outputs_3=outputs_bis.copy()"
   ]
  },
  {
   "cell_type": "code",
   "execution_count": null,
   "metadata": {},
   "outputs": [],
   "source": [
    "# Verification that all input labels have the same amounts units\n",
    "outputs_3.groupby(\"label\")[\"valueuom\"].value_counts() "
   ]
  },
  {
   "cell_type": "code",
   "execution_count": null,
   "metadata": {},
   "outputs": [],
   "source": [
    "outputs_3.to_csv(\"/path/processed/outputs_processed.csv\")"
   ]
  }
 ],
 "metadata": {
  "kernelspec": {
   "display_name": "Python 3",
   "language": "python",
   "name": "python3"
  },
  "language_info": {
   "codemirror_mode": {
    "name": "ipython",
    "version": 3
   },
   "file_extension": ".py",
   "mimetype": "text/x-python",
   "name": "python",
   "nbconvert_exporter": "python",
   "pygments_lexer": "ipython3",
   "version": "3.8.5"
  }
 },
 "nbformat": 4,
 "nbformat_minor": 4
}
