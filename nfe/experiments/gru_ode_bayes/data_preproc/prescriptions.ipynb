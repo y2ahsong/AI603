{
 "cells": [
  {
   "cell_type": "markdown",
   "metadata": {},
   "source": [
    "# MIMIC 4 data - dataset construction prescriptions"
   ]
  },
  {
   "cell_type": "markdown",
   "metadata": {},
   "source": [
    "Code taken from GRU-ODE-Bayes preprocessing; simplified and adapted for MIMIC 4 1.0"
   ]
  },
  {
   "cell_type": "code",
   "execution_count": null,
   "metadata": {},
   "outputs": [],
   "source": [
    "import os\n",
    "import pandas as pd\n",
    "import matplotlib.pyplot as plt\n",
    "from datetime import datetime\n",
    "from datetime import timedelta\n",
    "import numpy as np\n",
    "from sklearn.model_selection import train_test_split"
   ]
  },
  {
   "cell_type": "code",
   "execution_count": null,
   "metadata": {},
   "outputs": [],
   "source": [
    "pd.set_option('display.max_rows', 50)\n",
    "pd.set_option('display.max_columns', 300)"
   ]
  },
  {
   "cell_type": "code",
   "execution_count": null,
   "metadata": {},
   "outputs": [],
   "source": [
    "adm = pd.read_csv(\"/path/processed/admissions_processed.csv\")\n",
    "adm.head()"
   ]
  },
  {
   "cell_type": "code",
   "execution_count": null,
   "metadata": {},
   "outputs": [],
   "source": [
    "# only choose previously selected admission ids\n",
    "presc=pd.read_csv(\"/path/hosp/prescriptions.csv.gz\")\n",
    "adm_ids=list(adm[\"hadm_id\"])\n",
    "presc=presc.loc[presc[\"hadm_id\"].isin(adm_ids)]\n",
    "\n",
    "print(\"Number of patients remaining in the database: \")\n",
    "print(presc[\"subject_id\"].nunique())\n",
    "presc.tail()"
   ]
  },
  {
   "cell_type": "code",
   "execution_count": null,
   "metadata": {},
   "outputs": [],
   "source": [
    "#Select entries whose drug name is in the list from the paper.\n",
    "drugs_list=[\"Acetaminophen\", \"Aspirin\",\"Bisacodyl\",\"Insulin\",\"Heparin\",\"Docusate Sodium\",\"D5W\",\"Humulin-R Insulin\",\"Potassium Chloride\",\"Magnesium Sulfate\",\"Metoprolol Tartrate\",\"Sodium Chloride 0.9%  Flush\",\"Pantoprazole\"]\n",
    "presc2=presc.loc[presc[\"drug\"].isin(drugs_list)]\n",
    "\n",
    "print(\"Number of patients remaining in the database: \")\n",
    "print(presc2[\"subject_id\"].nunique())"
   ]
  },
  {
   "cell_type": "code",
   "execution_count": null,
   "metadata": {},
   "outputs": [],
   "source": [
    "print(presc2.groupby(\"drug\")[\"dose_unit_rx\"].value_counts())"
   ]
  },
  {
   "cell_type": "code",
   "execution_count": null,
   "metadata": {},
   "outputs": [],
   "source": [
    "#Units correction\n",
    "presc2=presc2.drop(presc2.loc[presc2[\"dose_unit_rx\"].isnull()].index).copy()\n",
    "presc2=presc2.drop(presc2.loc[(presc2[\"drug\"]==\"Acetaminophen\")&(presc2[\"dose_unit_rx\"]!=\"mg\")].index).copy()\n",
    "presc2.loc[(presc2[\"drug\"]==\"D5W\")&(presc2[\"dose_unit_rx\"]==\"ml\"),\"dose_unit_rx\"]=\"mL\"\n",
    "presc2=presc2.drop(presc2.loc[(presc2[\"drug\"]==\"D5W\")&(presc2[\"dose_unit_rx\"]!=\"mL\")].index).copy()\n",
    "presc2=presc2.drop(presc2.loc[(presc2[\"drug\"]==\"Heparin\")&(presc2[\"dose_unit_rx\"]!=\"UNIT\")].index).copy()\n",
    "presc2=presc2.drop(presc2.loc[(presc2[\"drug\"]==\"Insulin\")&(presc2[\"dose_unit_rx\"]!=\"UNIT\")].index).copy()\n",
    "presc2=presc2.drop(presc2.loc[(presc2[\"drug\"]==\"Magnesium Sulfate\")&(presc2[\"dose_unit_rx\"]!=\"gm\")].index).copy()\n",
    "presc2=presc2.drop(presc2.loc[(presc2[\"drug\"]==\"Potassium Chloride\")&(presc2[\"dose_unit_rx\"]!=\"mEq\")].index).copy()\n",
    "presc2.loc[(presc2[\"drug\"]==\"Sodium Chloride 0.9%  Flush\")&(presc2[\"dose_unit_rx\"]==\"ml\"),\"dose_unit_rx\"]=\"mL\"\n",
    "presc2=presc2.drop(presc2.loc[(presc2[\"drug\"]==\"Bisacodyl\")&(presc2[\"dose_unit_rx\"]!=\"mg\")].index).copy()\n",
    "presc2=presc2.drop(presc2.loc[(presc2[\"drug\"]==\"Pantoprazole\")&(presc2[\"dose_unit_rx\"]!=\"mg\")].index).copy()\n",
    "print(presc2.groupby(\"drug\")[\"dose_unit_rx\"].value_counts())"
   ]
  },
  {
   "cell_type": "code",
   "execution_count": null,
   "metadata": {},
   "outputs": [],
   "source": [
    "#To avoid confounding labels with labels from other tables, we add \"drug\" to the name\n",
    "presc2['charttime']=pd.to_datetime(presc2[\"starttime\"], format='%Y-%m-%d %H:%M:%S')\n",
    "presc2[\"drug\"]=presc2[\"drug\"]+\" Drug\""
   ]
  },
  {
   "cell_type": "code",
   "execution_count": null,
   "metadata": {},
   "outputs": [],
   "source": [
    "presc2.to_csv(\"/path/processed/prescriptions_processed.csv\")"
   ]
  }
 ],
 "metadata": {
  "kernelspec": {
   "display_name": "Python 3",
   "language": "python",
   "name": "python3"
  },
  "language_info": {
   "codemirror_mode": {
    "name": "ipython",
    "version": 3
   },
   "file_extension": ".py",
   "mimetype": "text/x-python",
   "name": "python",
   "nbconvert_exporter": "python",
   "pygments_lexer": "ipython3",
   "version": "3.8.5"
  }
 },
 "nbformat": 4,
 "nbformat_minor": 4
}
